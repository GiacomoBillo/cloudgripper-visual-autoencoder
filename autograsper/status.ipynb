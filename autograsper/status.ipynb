{
 "cells": [
  {
   "cell_type": "code",
   "execution_count": null,
   "metadata": {},
   "outputs": [],
   "source": [
    "# delete all with fewer than 4 keyframes or has no status.txt file"
   ]
  },
  {
   "cell_type": "code",
   "execution_count": null,
   "metadata": {},
   "outputs": [],
   "source": [
    "import os\n",
    "import matplotlib.pyplot as plt\n",
    "import matplotlib.image as mpimg\n",
    "import re\n",
    "\n",
    "# Set the root directory\n",
    "root_dir = \"recorded_data\"\n",
    "\n",
    "# Collect all successful tasks\n",
    "tasks = []\n",
    "for x_dir in os.listdir(root_dir):\n",
    "    x_path = os.path.join(root_dir, x_dir)\n",
    "    status_file = os.path.join(x_path, \"status.txt\")\n",
    "    image_dir = os.path.join(x_path, \"task/Final_Image\")\n",
    "\n",
    "    if os.path.isdir(x_path) and os.path.isfile(status_file) and os.path.isdir(image_dir):\n",
    "        with open(status_file, \"r\") as file:\n",
    "            if file.read().strip() == \"success\":\n",
    "                # Find all images matching the pattern final_image_<number>.jpg\n",
    "                for image_file in os.listdir(image_dir):\n",
    "                    if re.match(r\"final_image_\\d+\\.jpg\", image_file):\n",
    "                        tasks.append((x_dir, os.path.join(image_dir, image_file), status_file))\n",
    "\n",
    "def show_images_inline(tasks):\n",
    "    \"\"\"Displays each image inline using matplotlib in Jupyter Notebook.\"\"\"\n",
    "    for task in tasks:\n",
    "        img = mpimg.imread(task[1])\n",
    "        plt.imshow(img)\n",
    "        plt.title(f\"Task {task[0]}\")\n",
    "        plt.axis('off')\n",
    "        plt.show()\n",
    "\n",
    "print(len(tasks))\n",
    "show_images_inline(tasks)\n",
    "\n"
   ]
  },
  {
   "cell_type": "code",
   "execution_count": 4,
   "metadata": {},
   "outputs": [],
   "source": [
    "import os\n",
    "import shutil\n",
    "\n",
    "def merge_folders(folder1, folder2, target_folder):\n",
    "    # Ensure the target folder exists\n",
    "    os.makedirs(target_folder, exist_ok=True)\n",
    "\n",
    "    # Helper function to get the next available integer name\n",
    "    def get_next_name(existing_names):\n",
    "        i = 1\n",
    "        while str(i) in existing_names:\n",
    "            i += 1\n",
    "        return str(i)\n",
    "\n",
    "    # Collect all subfolder names already in the target folder\n",
    "    existing_names = set(os.listdir(target_folder))\n",
    "\n",
    "    # Process each folder\n",
    "    for folder in [folder1, folder2]:\n",
    "        for subfolder in os.listdir(folder):\n",
    "            source_path = os.path.join(folder, subfolder)\n",
    "            if os.path.isdir(source_path):  # Ensure it's a subfolder\n",
    "                if subfolder in existing_names:\n",
    "                    # Resolve conflict by renaming\n",
    "                    new_name = get_next_name(existing_names)\n",
    "                    existing_names.add(new_name)\n",
    "                    target_path = os.path.join(target_folder, new_name)\n",
    "                else:\n",
    "                    existing_names.add(subfolder)\n",
    "                    target_path = os.path.join(target_folder, subfolder)\n",
    "\n",
    "                # Move the subfolder\n",
    "                shutil.move(source_path, target_path)\n",
    "                print(f\"Moved '{source_path}' to '{target_path}'\")\n",
    "\n",
    "# Example usage\n",
    "folder1 = \"./recorded_data\"\n",
    "folder2 = \"./backup\"\n",
    "target_folder = \"./merged_data\"\n",
    "\n",
    "merge_folders(folder1, folder2, target_folder)"
   ]
  }
 ],
 "metadata": {
  "kernelspec": {
   "display_name": "Python 3",
   "language": "python",
   "name": "python3"
  },
  "language_info": {
   "codemirror_mode": {
    "name": "ipython",
    "version": 3
   },
   "file_extension": ".py",
   "mimetype": "text/x-python",
   "name": "python",
   "nbconvert_exporter": "python",
   "pygments_lexer": "ipython3",
   "version": "3.8.10"
  }
 },
 "nbformat": 4,
 "nbformat_minor": 2
}
